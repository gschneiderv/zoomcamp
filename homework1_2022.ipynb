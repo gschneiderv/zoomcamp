{
 "cells": [
  {
   "cell_type": "code",
   "execution_count": 3,
   "id": "184244df",
   "metadata": {},
   "outputs": [],
   "source": [
    "import numpy as np\n",
    "import pandas as pd"
   ]
  },
  {
   "cell_type": "code",
   "execution_count": 4,
   "id": "6ccbc685",
   "metadata": {},
   "outputs": [
    {
     "name": "stdout",
     "output_type": "stream",
     "text": [
      "1.26.0\n"
     ]
    }
   ],
   "source": [
    "print(np.__version__)"
   ]
  },
  {
   "cell_type": "markdown",
   "id": "e05b8da6",
   "metadata": {},
   "source": [
    "Reading csv with pandas"
   ]
  },
  {
   "cell_type": "code",
   "execution_count": 5,
   "id": "179c8d94",
   "metadata": {},
   "outputs": [
    {
     "data": {
      "text/html": [
       "<div>\n",
       "<style scoped>\n",
       "    .dataframe tbody tr th:only-of-type {\n",
       "        vertical-align: middle;\n",
       "    }\n",
       "\n",
       "    .dataframe tbody tr th {\n",
       "        vertical-align: top;\n",
       "    }\n",
       "\n",
       "    .dataframe thead th {\n",
       "        text-align: right;\n",
       "    }\n",
       "</style>\n",
       "<table border=\"1\" class=\"dataframe\">\n",
       "  <thead>\n",
       "    <tr style=\"text-align: right;\">\n",
       "      <th></th>\n",
       "      <th>Make</th>\n",
       "      <th>Model</th>\n",
       "      <th>Year</th>\n",
       "      <th>Engine Fuel Type</th>\n",
       "      <th>Engine HP</th>\n",
       "      <th>Engine Cylinders</th>\n",
       "      <th>Transmission Type</th>\n",
       "      <th>Driven_Wheels</th>\n",
       "      <th>Number of Doors</th>\n",
       "      <th>Market Category</th>\n",
       "      <th>Vehicle Size</th>\n",
       "      <th>Vehicle Style</th>\n",
       "      <th>highway MPG</th>\n",
       "      <th>city mpg</th>\n",
       "      <th>Popularity</th>\n",
       "      <th>MSRP</th>\n",
       "    </tr>\n",
       "  </thead>\n",
       "  <tbody>\n",
       "    <tr>\n",
       "      <th>0</th>\n",
       "      <td>BMW</td>\n",
       "      <td>1 Series M</td>\n",
       "      <td>2011</td>\n",
       "      <td>premium unleaded (required)</td>\n",
       "      <td>335.0</td>\n",
       "      <td>6.0</td>\n",
       "      <td>MANUAL</td>\n",
       "      <td>rear wheel drive</td>\n",
       "      <td>2.0</td>\n",
       "      <td>Factory Tuner,Luxury,High-Performance</td>\n",
       "      <td>Compact</td>\n",
       "      <td>Coupe</td>\n",
       "      <td>26</td>\n",
       "      <td>19</td>\n",
       "      <td>3916</td>\n",
       "      <td>46135</td>\n",
       "    </tr>\n",
       "    <tr>\n",
       "      <th>1</th>\n",
       "      <td>BMW</td>\n",
       "      <td>1 Series</td>\n",
       "      <td>2011</td>\n",
       "      <td>premium unleaded (required)</td>\n",
       "      <td>300.0</td>\n",
       "      <td>6.0</td>\n",
       "      <td>MANUAL</td>\n",
       "      <td>rear wheel drive</td>\n",
       "      <td>2.0</td>\n",
       "      <td>Luxury,Performance</td>\n",
       "      <td>Compact</td>\n",
       "      <td>Convertible</td>\n",
       "      <td>28</td>\n",
       "      <td>19</td>\n",
       "      <td>3916</td>\n",
       "      <td>40650</td>\n",
       "    </tr>\n",
       "    <tr>\n",
       "      <th>2</th>\n",
       "      <td>BMW</td>\n",
       "      <td>1 Series</td>\n",
       "      <td>2011</td>\n",
       "      <td>premium unleaded (required)</td>\n",
       "      <td>300.0</td>\n",
       "      <td>6.0</td>\n",
       "      <td>MANUAL</td>\n",
       "      <td>rear wheel drive</td>\n",
       "      <td>2.0</td>\n",
       "      <td>Luxury,High-Performance</td>\n",
       "      <td>Compact</td>\n",
       "      <td>Coupe</td>\n",
       "      <td>28</td>\n",
       "      <td>20</td>\n",
       "      <td>3916</td>\n",
       "      <td>36350</td>\n",
       "    </tr>\n",
       "    <tr>\n",
       "      <th>3</th>\n",
       "      <td>BMW</td>\n",
       "      <td>1 Series</td>\n",
       "      <td>2011</td>\n",
       "      <td>premium unleaded (required)</td>\n",
       "      <td>230.0</td>\n",
       "      <td>6.0</td>\n",
       "      <td>MANUAL</td>\n",
       "      <td>rear wheel drive</td>\n",
       "      <td>2.0</td>\n",
       "      <td>Luxury,Performance</td>\n",
       "      <td>Compact</td>\n",
       "      <td>Coupe</td>\n",
       "      <td>28</td>\n",
       "      <td>18</td>\n",
       "      <td>3916</td>\n",
       "      <td>29450</td>\n",
       "    </tr>\n",
       "    <tr>\n",
       "      <th>4</th>\n",
       "      <td>BMW</td>\n",
       "      <td>1 Series</td>\n",
       "      <td>2011</td>\n",
       "      <td>premium unleaded (required)</td>\n",
       "      <td>230.0</td>\n",
       "      <td>6.0</td>\n",
       "      <td>MANUAL</td>\n",
       "      <td>rear wheel drive</td>\n",
       "      <td>2.0</td>\n",
       "      <td>Luxury</td>\n",
       "      <td>Compact</td>\n",
       "      <td>Convertible</td>\n",
       "      <td>28</td>\n",
       "      <td>18</td>\n",
       "      <td>3916</td>\n",
       "      <td>34500</td>\n",
       "    </tr>\n",
       "  </tbody>\n",
       "</table>\n",
       "</div>"
      ],
      "text/plain": [
       "  Make       Model  Year             Engine Fuel Type  Engine HP  \\\n",
       "0  BMW  1 Series M  2011  premium unleaded (required)      335.0   \n",
       "1  BMW    1 Series  2011  premium unleaded (required)      300.0   \n",
       "2  BMW    1 Series  2011  premium unleaded (required)      300.0   \n",
       "3  BMW    1 Series  2011  premium unleaded (required)      230.0   \n",
       "4  BMW    1 Series  2011  premium unleaded (required)      230.0   \n",
       "\n",
       "   Engine Cylinders Transmission Type     Driven_Wheels  Number of Doors  \\\n",
       "0               6.0            MANUAL  rear wheel drive              2.0   \n",
       "1               6.0            MANUAL  rear wheel drive              2.0   \n",
       "2               6.0            MANUAL  rear wheel drive              2.0   \n",
       "3               6.0            MANUAL  rear wheel drive              2.0   \n",
       "4               6.0            MANUAL  rear wheel drive              2.0   \n",
       "\n",
       "                         Market Category Vehicle Size Vehicle Style  \\\n",
       "0  Factory Tuner,Luxury,High-Performance      Compact         Coupe   \n",
       "1                     Luxury,Performance      Compact   Convertible   \n",
       "2                Luxury,High-Performance      Compact         Coupe   \n",
       "3                     Luxury,Performance      Compact         Coupe   \n",
       "4                                 Luxury      Compact   Convertible   \n",
       "\n",
       "   highway MPG  city mpg  Popularity   MSRP  \n",
       "0           26        19        3916  46135  \n",
       "1           28        19        3916  40650  \n",
       "2           28        20        3916  36350  \n",
       "3           28        18        3916  29450  \n",
       "4           28        18        3916  34500  "
      ]
     },
     "execution_count": 5,
     "metadata": {},
     "output_type": "execute_result"
    }
   ],
   "source": [
    "car_prices = pd.read_csv('/Users/gaby/Desktop/Repos/zoomcamp/car_prices.csv')\n",
    "car_prices.head()\n"
   ]
  },
  {
   "cell_type": "markdown",
   "id": "037baef4",
   "metadata": {},
   "source": [
    "Q2: How many records(rows) are in the dataset?"
   ]
  },
  {
   "cell_type": "code",
   "execution_count": 6,
   "id": "40861159",
   "metadata": {},
   "outputs": [
    {
     "data": {
      "text/plain": [
       "11914"
      ]
     },
     "execution_count": 6,
     "metadata": {},
     "output_type": "execute_result"
    }
   ],
   "source": [
    "len(car_prices)"
   ]
  },
  {
   "cell_type": "markdown",
   "id": "e5928472",
   "metadata": {},
   "source": [
    "Q3: Who are the most frequent car manufacturers (top-3) according to the dataset?\n"
   ]
  },
  {
   "cell_type": "code",
   "execution_count": 7,
   "metadata": {},
   "outputs": [
    {
     "data": {
      "text/plain": [
       "Make\n",
       "Chevrolet        1123\n",
       "Ford              881\n",
       "Volkswagen        809\n",
       "Toyota            746\n",
       "Dodge             626\n",
       "Nissan            558\n",
       "GMC               515\n",
       "Honda             449\n",
       "Mazda             423\n",
       "Cadillac          397\n",
       "Mercedes-Benz     353\n",
       "Suzuki            351\n",
       "BMW               334\n",
       "Infiniti          330\n",
       "Audi              328\n",
       "Hyundai           303\n",
       "Volvo             281\n",
       "Subaru            256\n",
       "Acura             252\n",
       "Kia               231\n",
       "Mitsubishi        213\n",
       "Lexus             202\n",
       "Buick             196\n",
       "Chrysler          187\n",
       "Pontiac           186\n",
       "Lincoln           164\n",
       "Oldsmobile        150\n",
       "Land Rover        143\n",
       "Porsche           136\n",
       "Saab              111\n",
       "Aston Martin       93\n",
       "Plymouth           82\n",
       "Bentley            74\n",
       "Ferrari            69\n",
       "FIAT               62\n",
       "Scion              60\n",
       "Maserati           58\n",
       "Lamborghini        52\n",
       "Rolls-Royce        31\n",
       "Lotus              29\n",
       "Tesla              18\n",
       "HUMMER             17\n",
       "Maybach            16\n",
       "Alfa Romeo          5\n",
       "McLaren             5\n",
       "Spyker              3\n",
       "Genesis             3\n",
       "Bugatti             3\n",
       "Name: count, dtype: int64"
      ]
     },
     "execution_count": 7,
     "metadata": {},
     "output_type": "execute_result"
    }
   ],
   "source": [
    "car_prices['Make'].value_counts().sort_values(ascending=False)"
   ]
  },
  {
   "cell_type": "code",
   "execution_count": 12,
   "id": "9f5da1cf",
   "metadata": {},
   "outputs": [
    {
     "data": {
      "text/plain": [
       "Make\n",
       "Chevrolet     1123\n",
       "Ford           881\n",
       "Volkswagen     809\n",
       "Name: count, dtype: int64"
      ]
     },
     "execution_count": 12,
     "metadata": {},
     "output_type": "execute_result"
    }
   ],
   "source": [
    "#Another way for Q3\n",
    "top3 = car_prices['Make'].value_counts()\n",
    "top3[:3]"
   ]
  },
  {
   "cell_type": "markdown",
   "id": "97ea92f8",
   "metadata": {},
   "source": [
    "Q4:What's the number of unique Audi car models in the dataset?"
   ]
  },
  {
   "cell_type": "code",
   "execution_count": 8,
   "id": "b3dea226",
   "metadata": {},
   "outputs": [
    {
     "name": "stdout",
     "output_type": "stream",
     "text": [
      "34\n"
     ]
    }
   ],
   "source": [
    "df= car_prices[car_prices['Make'] == 'Audi']\n",
    "df_Audi = df['Model'].nunique()\n",
    "\n",
    "print(df_Audi)\n",
    "\n",
    "\n",
    "# df_Audi = df['Model'].unique()\n",
    "# print(df_Audi) \n",
    "# printea los 34 nombres de modelos   ... ojo! diferencia entre .unique() vs .nunique()"
   ]
  },
  {
   "cell_type": "markdown",
   "id": "f53ba724",
   "metadata": {},
   "source": [
    "Q5:How many columns in the dataset have missing values?"
   ]
  },
  {
   "cell_type": "code",
   "execution_count": 17,
   "id": "e1133709",
   "metadata": {},
   "outputs": [
    {
     "name": "stdout",
     "output_type": "stream",
     "text": [
      "['Engine Fuel Type', 'Engine HP', 'Engine Cylinders', 'Number of Doors', 'Market Category']\n",
      "5\n"
     ]
    }
   ],
   "source": [
    "\n",
    "# create a Boolean mask for missing values\n",
    "missing_values = car_prices.isnull()\n",
    "\n",
    "# count the number of missing values in each column\n",
    "missing_counts = missing_values.sum()\n",
    "\n",
    "# print the column names with missing values\n",
    "print(missing_counts[missing_counts > 0].index.tolist())\n",
    "\n",
    "missing_val_col = missing_counts[missing_counts > 0].index.tolist()\n",
    "\n",
    "#print num of columns with null values\n",
    "print(len(missing_val_col))"
   ]
  },
  {
   "cell_type": "markdown",
   "id": "e3c5f978",
   "metadata": {},
   "source": [
    "Q6: \n",
    "1- Find the median value of \"Engine Cylinders\" column in the dataset.\n",
    "2- Next, calculate the most frequent value of the same \"Engine Cylinders\".\n",
    "3- Use the fillna method to fill the missing values in \"Engine Cylinders\" with the most frequent value from the previous step.\n",
    "4- Now, calculate the median value of \"Engine Cylinders\" once again."
   ]
  },
  {
   "cell_type": "code",
   "execution_count": 28,
   "id": "87fdf34c",
   "metadata": {},
   "outputs": [
    {
     "name": "stdout",
     "output_type": "stream",
     "text": [
      "6.0\n",
      "4.0\n",
      "6.0\n"
     ]
    }
   ],
   "source": [
    "#1 median value of column \"Engine Cylinders\"\n",
    "\n",
    "median_value_EC= car_prices[\"Engine Cylinders\"].median()\n",
    "print(median_value_EC)\n",
    "\n",
    "#Rta: 6.0\n",
    "\n",
    "#2 most frequent value of the same \"Engine Cylinders\"  (mode)\n",
    "\n",
    "mode_EC= car_prices[\"Engine Cylinders\"].value_counts().idxmax()\n",
    "print(mode_EC)\n",
    "\n",
    "#Rta= 4.0\n",
    "\n",
    "#3 fillna method to fill the missing values with the most frequent value from the previous step.\n",
    "\n",
    "df_filled = car_prices['Engine Cylinders'].fillna(car_prices['Engine Cylinders'].mode()[0])\n",
    "\n",
    "#df_filled.head(100)\n",
    "\n",
    "#4 median value of \"Engine Cylinders\" once again\n",
    "\n",
    "print(df_filled.median())\n"
   ]
  },
  {
   "cell_type": "markdown",
   "id": "8962c4d5",
   "metadata": {},
   "source": [
    "Q7: \n",
    "1-Select all the \"Lotus\" cars from the dataset.\n",
    "2-Select only columns \"Engine HP\", \"Engine Cylinders\".\n",
    "3-Now drop all duplicated rows using drop_duplicates method (you should get a dataframe with 9 rows).\n",
    "4-Get the underlying NumPy array. Let's call it X.\n",
    "5-Compute matrix-matrix multiplication between the transpose of X and X. To get the transpose, use X.T. Let's call the result XTX.\n",
    "6-Compute the inverse of XTX.\n",
    "7-Create an array y with values [1100, 800, 750, 850, 1300, 1000, 1000, 1300, 800].\n",
    "8-Multiply the inverse of XTX with the transpose of X, and then multiply the result by y. Call the result w.\n",
    "9-What's the value of the first element of w?"
   ]
  },
  {
   "cell_type": "code",
   "execution_count": 59,
   "id": "d2381d14",
   "metadata": {},
   "outputs": [
    {
     "name": "stdout",
     "output_type": "stream",
     "text": [
      "[  4.59494481 -63.56432501]\n",
      "4.5949448100945744\n"
     ]
    }
   ],
   "source": [
    "#1 Lotus is value of \"Make\" column\n",
    "\n",
    "df_lotus = car_prices[car_prices[\"Make\"] ==\"Lotus\"] \n",
    "#df_lotus.head()\n",
    "\n",
    "#2 only columns \"Engine HP\", \"Engine Cylinders\"\n",
    "\n",
    "df_lotus_Engine = df_lotus[[\"Engine HP\", \"Engine Cylinders\"]]\n",
    "#df_lotus_Engine.head()\n",
    "\n",
    "#3 drop all duplicated rows using drop_duplicates method (you should get a dataframe with 9 rows)\n",
    "\n",
    "df_2 = df_lotus_Engine.drop_duplicates()\n",
    "#df_2.head(10)\n",
    "\n",
    "#4 Get the underlying NumPy array. Let's call it X. \"Me meto en la estructura interna\"\n",
    "\n",
    "X = df_2.to_numpy()\n",
    "#print(X)\n",
    "\n",
    "#5 Compute matrix-matrix multiplication between the transpose of X and X. To get the transpose, use X.T. Let's call the result XTX\n",
    "\n",
    "TX = X.T\n",
    "#print (TX)\n",
    "\n",
    "XTX = np.matmul(TX, X)\n",
    "#print(XTX)\n",
    "\n",
    "#6 Compute the inverse of XTX.\n",
    "\n",
    "XTX_inverse = np.linalg.inv(XTX)\n",
    "#print(XTX_inverse)\n",
    "\n",
    "#7 Create an array y with values [1100, 800, 750, 850, 1300, 1000, 1000, 1300, 800].\n",
    "\n",
    "y = np.array([1100, 800, 750, 850, 1300, 1000, 1000, 1300, 800])\n",
    "#print(y)\n",
    "\n",
    "#8 Multiply the inverse of XTX with the transpose of X, and then multiply the result by y. Call the result w.\n",
    "\n",
    "XTX_inverse_X_TX = np.matmul(XTX_inverse, TX)\n",
    "#print(XTX_inverse_X_TX)\n",
    "\n",
    "w = np.matmul(XTX_inverse_X_TX, y)\n",
    "print(w)\n",
    "\n",
    "#9 What's the value of the first element of w?\n",
    "\n",
    "print(w[0])"
   ]
  }
 ],
 "metadata": {
  "kernelspec": {
   "display_name": "Python 3 (ipykernel)",
   "language": "python",
   "name": "python3"
  },
  "language_info": {
   "codemirror_mode": {
    "name": "ipython",
    "version": 3
   },
   "file_extension": ".py",
   "mimetype": "text/x-python",
   "name": "python",
   "nbconvert_exporter": "python",
   "pygments_lexer": "ipython3",
   "version": "3.9.18"
  }
 },
 "nbformat": 4,
 "nbformat_minor": 5
}
